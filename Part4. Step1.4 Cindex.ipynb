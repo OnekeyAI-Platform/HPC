{
 "cells": [
  {
   "cell_type": "markdown",
   "id": "6321595e",
   "metadata": {},
   "source": [
    "# Cox生存分析\n",
    "\n",
    "* `mydir`：自己的数据\n",
    "* `ostime_column`: 数据对应的生存时间，不一定非的是OST，也可以是DST、FST等。\n",
    "* `os`：生存状态，不一定非的是OS，也可以是DS、FS等。"
   ]
  },
  {
   "cell_type": "code",
   "execution_count": null,
   "id": "cb0fc498",
   "metadata": {},
   "outputs": [],
   "source": [
    "from lifelines import CoxPHFitter\n",
    "import pandas as pd\n",
    "from onekey_algo.custom.components.comp1 import normalize_df\n",
    "from sklearn.model_selection import train_test_split\n",
    "from onekey_algo import get_param_in_cwd\n",
    "from onekey_algo.custom.components.comp1 import fillna\n",
    "\n",
    "event_col = get_param_in_cwd('event_col', 'label')\n",
    "duration_col=get_param_in_cwd('duration_col', 'time')\n",
    "\n",
    "def get_prediction(mn):\n",
    "    prediction = pd.concat([pd.read_csv(f'results/{mn}_cox_predictions_{subset}.csv') for subset in get_param_in_cwd('subsets')],\n",
    "                           axis=0)\n",
    "    prediction.columns = ['ID', f'{mn}_Exp', mn]\n",
    "    return prediction[['ID', f'{mn}']]\n",
    "\n",
    "data = None\n",
    "for mn in get_param_in_cwd('compare_models'):\n",
    "    pred = get_prediction(mn)\n",
    "    if data is None:\n",
    "        data = pred\n",
    "    else:\n",
    "        data = pd.merge(data, pred)\n",
    "\n",
    "# data = normalize_df(data, not_norm=['ID', 'group'])\n",
    "label_data = pd.read_csv(get_param_in_cwd('survival_file'), dtype={'ID':str})\n",
    "# label_data = fillna(label_data, fill_mod='50%')\n",
    "data = pd.merge(data, label_data, on='ID', how='inner')\n",
    "data = pd.merge(data, pd.read_csv('joinit_group.csv')[['ID', 'group']])\n",
    "data"
   ]
  },
  {
   "cell_type": "code",
   "execution_count": null,
   "id": "669023fa",
   "metadata": {
    "scrolled": false
   },
   "outputs": [],
   "source": [
    "from lifelines import CoxPHFitter\n",
    "from lifelines.statistics import logrank_test\n",
    "from lifelines import KaplanMeierFitter\n",
    "from lifelines.plotting import add_at_risk_counts\n",
    "from lifelines.utils import concordance_index\n",
    "\n",
    "metrics = []\n",
    "for task in ['PFS', 'OS']:\n",
    "    metric = [task]\n",
    "    for subset in get_param_in_cwd('subsets'):\n",
    "        subdata = data[data['group'] == subset]\n",
    "        metric.append(concordance_index(subdata[f\"{task}_time\"], subdata[f\"Full{task}\"], subdata[task]))\n",
    "    metrics.append(metric)\n",
    "pd.DataFrame(metrics, columns=['Survival'] + get_param_in_cwd('subsets'))"
   ]
  },
  {
   "cell_type": "code",
   "execution_count": null,
   "id": "82433b3b",
   "metadata": {},
   "outputs": [],
   "source": []
  }
 ],
 "metadata": {
  "kernelspec": {
   "display_name": "Python 3 (ipykernel)",
   "language": "python",
   "name": "python3"
  },
  "language_info": {
   "codemirror_mode": {
    "name": "ipython",
    "version": 3
   },
   "file_extension": ".py",
   "mimetype": "text/x-python",
   "name": "python",
   "nbconvert_exporter": "python",
   "pygments_lexer": "ipython3",
   "version": "3.7.12"
  }
 },
 "nbformat": 4,
 "nbformat_minor": 5
}
